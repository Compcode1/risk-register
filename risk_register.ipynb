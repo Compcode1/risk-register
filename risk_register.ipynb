{
 "cells": [
  {
   "cell_type": "markdown",
   "metadata": {},
   "source": [
    "#### **INTRODUCTION**\n",
    "\n",
    "You've joined a new cybersecurity team at a commercial bank. The team is conducting a risk assessment of the bank's current operational environment. As part of the assessment, they are creating a risk register to help them focus on securing the most vulnerable risks.\n",
    "\n",
    "A risk register is a central record of potential risks to an organization's assets, information systems, and data. Security teams commonly use risk registers when conducting a risk assessment.\n",
    "\n",
    "Your supervisor asks you to evaluate a set of risks that the cybersecurity team has recorded in the risk register. For each risk, you will first determine how likely that risk is to occur. Then, you will determine how severely that risk may impact the bank. Finally, you will calculate a score for the severity of that risk. You will then compare scores across all risks so your team can determine how to prioritize their attention for each risk."
   ]
  },
  {
   "cell_type": "markdown",
   "metadata": {},
   "source": [
    "#### **Risk Register and Assessment**\n",
    "\n",
    "**Notes on Risk Factors**\n",
    "\n",
    "The bank's operational environment introduces several potential risks due to the high volume of data managed by on-premise and remote employees, as well as the strict financial regulations governing operations. Coastal environmental factors, human errors, and external malicious attacks increase the risk of security breaches. These vulnerabilities highlight the need for a robust risk mitigation strategy.\n",
    "\n",
    "---\n",
    "\n",
    "**Risk Register with Likelihood, Severity, and Overall Risk Scores**\n",
    "\n",
    "| **Risk**                     | **Description**                                                   | **Likelihood (1-3)** | **Severity (1-3)** | **Priority (1-9)** |\n",
    "|-------------------------------|-------------------------------------------------------------------|-----------------------|---------------------|---------------------|\n",
    "| **Business email compromise** | Risk of phishing or social engineering leading to unauthorized access to sensitive systems and funds. | 3                     | 3                   | 9                   |\n",
    "| **Compromised user database** | Risk of data breach exposing sensitive user information, leading to fraud or legal repercussions.        | 2                     | 3                   | 6                   |\n",
    "| **Financial records leak**    | Unauthorized disclosure of financial data causing reputational damage and regulatory fines.              | 2                     | 3                   | 6                   |\n",
    "| **Theft**                     | Theft of physical or digital assets impacting financial operations.                                      | 1                     | 2                   | 2                   |\n",
    "| **Supply chain attack**       | Compromise of a third-party vendor leading to operational disruptions and security vulnerabilities.       | 2                     | 2                   | 4                   |\n",
    "\n",
    "---\n",
    "\n",
    " Justification of Scores\n",
    "\n",
    "1. **Business Email Compromise**  \n",
    "   - Likelihood: **3** (High) due to the large number of employees handling emails daily, increasing exposure to phishing.  \n",
    "   - Severity: **3** (High) as successful compromise could lead to major financial and operational disruptions.  \n",
    "   - Priority: **9** (Critical).\n",
    "\n",
    "2. **Compromised User Database**  \n",
    "   - Likelihood: **2** (Moderate) due to increased vulnerabilities with remote employees accessing the database.  \n",
    "   - Severity: **3** (High) because of potential fraud, legal penalties, and customer loss.  \n",
    "   - Priority: **6** (High).\n",
    "\n",
    "3. **Financial Records Leak**  \n",
    "   - Likelihood: **2** (Moderate) as leaks are less frequent but still plausible.  \n",
    "   - Severity: **3** (High) because of the reputational and regulatory impact.  \n",
    "   - Priority: **6** (High).\n",
    "\n",
    "4. **Theft**  \n",
    "   - Likelihood: **1** (Low) due to physical security measures in place.  \n",
    "   - Severity: **2** (Moderate) given potential financial losses.  \n",
    "   - Priority: **2** (Low).\n",
    "\n",
    "5. **Supply Chain Attack**  \n",
    "   - Likelihood: **2** (Moderate) due to dependency on third-party vendors and environmental risks.  \n",
    "   - Severity: **2** (Moderate) with operational disruptions being the primary concern.  \n",
    "   - Priority: **4** (Medium).\n",
    "\n",
    "---\n",
    "\n",
    "\n",
    "\n",
    "**Notes on Risk Factors**\n",
    "\n",
    "The bank's operational environment introduces several potential risks due to the high volume of data managed by on-premise and remote employees, as well as the strict financial regulations governing operations. Coastal environmental factors, human errors, and external malicious attacks increase the risk of security breaches. These vulnerabilities highlight the need for a robust risk mitigation strategy.\n",
    "\n",
    "\n"
   ]
  }
 ],
 "metadata": {
  "language_info": {
   "name": "python"
  }
 },
 "nbformat": 4,
 "nbformat_minor": 2
}
